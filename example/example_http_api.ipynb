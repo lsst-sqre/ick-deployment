{
 "cells": [
  {
   "cell_type": "markdown",
   "metadata": {},
   "source": [
    "# Sending SQuaSH data to InfluxDB\n",
    "\n",
    "In this example notebook we will sync the SQuaSH production data with our InfluxDB instance, so that we can visualize SQuaSH metrics using [Chronograf](https://chronograf-demo.lsst.codes/). See also [this notebook](https://github.com/lsst-sqre/influx-demo) for a quick introduction on InfluxDB concepts.\n",
    "\n",
    "We are using the [InfluxDB HTTP API](https://docs.influxdata.com/influxdb/v1.6/tools/api/) and Python `requests` module for sending data. The [InfluxDB python client](https://github.com/influxdata/influxdb-python) could also be an option."
   ]
  },
  {
   "cell_type": "code",
   "execution_count": 1,
   "metadata": {},
   "outputs": [],
   "source": [
    "SQUASH_API_URL = \"https://squash-restful-api-demo.lsst.codes/\"\n",
    "INFLUXDB_API_URL = \"https://influxdb-demo.lsst.codes\""
   ]
  },
  {
   "cell_type": "markdown",
   "metadata": {},
   "source": [
    "We start by creating a new database. Note that if the database already exists nothing is done, the existing data is preserved, and an status code 200 (OK) is returned."
   ]
  },
  {
   "cell_type": "code",
   "execution_count": null,
   "metadata": {},
   "outputs": [],
   "source": [
    "import requests\n",
    "import json\n",
    "\n",
    "DB = \"squash-sandbox\"\n",
    "\n",
    "params={'q': 'CREATE DATABASE \"{}\"'.format(DB)}\n",
    "r = requests.post(url=INFLUXDB_API_URL + \"/query\", params=params)\n",
    "r.status_code"
   ]
  },
  {
   "cell_type": "markdown",
   "metadata": {},
   "source": [
    "Here we get a list of the existing verification jobs from the SQuaSH API."
   ]
  },
  {
   "cell_type": "code",
   "execution_count": null,
   "metadata": {},
   "outputs": [],
   "source": [
    "jobs = requests.get(SQUASH_API_URL + \"/jobs\").json()\n",
    "print(\"Loading {} verification jobs from SQuaSH...\".format(len(jobs['ids'])))"
   ]
  },
  {
   "cell_type": "markdown",
   "metadata": {},
   "source": [
    "Data in influxDb is organized as \"time series\". Each time series has points, one for each discrete sample of the metric. Points consist of:\n",
    "\n",
    "* timestamp\n",
    "* measurement : which conceptually matches the idea of a table in a relational database\n",
    "* tags : key-value pairs in order to store index values, usually metadata.\n",
    "* fields : key-value pairs, containing the value itself, non indexed.\n",
    "\n",
    "null values aren’t stored. The structure is of the data is:\n",
    "\n",
    "```#<measurement>[,<tag_key>=<tag_value>[,<tag_key>=<tag_value>]] <field_key>=<field_value>[,<field_key>=<field_value>] [<timestamp>]```\n",
    "\n",
    "\n",
    "The following cell will grab data from the SQuaSH API, and write it in that format, also known as [line protocol](https://docs.influxdata.com/influxdb/v1.6/write_protocols/line_protocol_tutorial/)):\n",
    "\n",
    "As you run this notebook you might follow the data ingestion using the [Data Explorer](https://chronograf-demo.lsst.codes/sources/2/chronograf/data-explorer) tool in Chronograf."
   ]
  },
  {
   "cell_type": "code",
   "execution_count": null,
   "metadata": {},
   "outputs": [],
   "source": [
    "from pytz import UTC\n",
    "from datetime import datetime\n",
    "from dateutil.parser import parse\n",
    "\n",
    "EPOCH = UTC.localize(datetime.utcfromtimestamp(0))\n",
    "\n",
    "params = {'db': DB}\n",
    "\n",
    "for job_id in jobs['ids']:\n",
    "\n",
    "    r = requests.get(SQUASH_API_URL + \"/job/{}\".format(job_id)).json()\n",
    "\n",
    "    # Skip datasets we don't want \n",
    "    if r['ci_dataset'] == 'unknown' or r['ci_dataset'] == 'decam':\n",
    "        continue\n",
    "\n",
    "    print('Sending line for job {}...'.format(job_id))\n",
    "\n",
    "    # The datamodel for SQuaSH in InfluxDB maps each verification package to \n",
    "    # a different InfluxDB measurement, all job metadata to InfluxDB tags and \n",
    "    # all metrics to fields.\n",
    "    \n",
    "    # Here we basically put the fields on their corresponding measurements.\n",
    "    \n",
    "    fields = {}\n",
    "    for meas in r['measurements']:\n",
    "        \n",
    "        # parse the verification package, eventually it could figure out as \n",
    "        # another field in the SQuaSH API /measurements\n",
    "        \n",
    "        influxdb_measurement = meas['metric'].split('.')[0]\n",
    "        \n",
    "        if influxdb_measurement not in fields:\n",
    "            fields[influxdb_measurement] = []\n",
    "        fields[influxdb_measurement].append(\"{}={}\".format(meas['metric'], meas['value']))\n",
    "        \n",
    "    tags = []\n",
    "    # skip package info for now \n",
    "    del r['meta']['packages']\n",
    "   \n",
    "    # add ci_dataset as metadata\n",
    "    r['meta']['dataset'] = r['ci_dataset']\n",
    "     \n",
    "    # delete rest of the env info for now\n",
    "    del r['meta']['env']\n",
    "    \n",
    "    for key, value in r['meta'].items():\n",
    "    \n",
    "        # tag values cannot have blank spaces\n",
    "        if type(value) == str:\n",
    "            value = value.replace(\" \", \"_\")\n",
    "            tags.append(\"{}=\\\"{}\\\"\".format(key, value))\n",
    "        else:\n",
    "            tags.append(\"{}={}\".format(key, value))\n",
    "\n",
    "    timestamp = int((parse(r['date_created']) - EPOCH).total_seconds()*1e9)\n",
    "\n",
    "    # create an InlfuxDB line for each measurement and send \n",
    "    for measurement in fields.keys():\n",
    "    \n",
    "        line = \"{},{} {} {}\".format(measurement, \",\".join(tags), \",\".join(fields[measurement]), timestamp)\n",
    "\n",
    "        post = requests.post(url=INFLUXDB_API_URL + \"/write\", params=params, data=line)\n",
    "\n",
    "        print(post.status_code)\n",
    "        print(post.text)\n"
   ]
  }
 ],
 "metadata": {
  "kernelspec": {
   "display_name": "Python 3",
   "language": "python",
   "name": "python3"
  }
 },
 "nbformat": 4,
 "nbformat_minor": 2
}
